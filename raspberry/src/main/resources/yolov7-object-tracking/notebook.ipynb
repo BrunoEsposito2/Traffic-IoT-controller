{
 "cells": [
  {
   "cell_type": "code",
   "execution_count": 11,
   "metadata": {
    "collapsed": true
   },
   "outputs": [
    {
     "name": "stdout",
     "output_type": "stream",
     "text": [
      "Requirement already satisfied: yt-dlp in c:\\users\\filip\\desktop\\workspaces\\python\\yolov7-object-tracking\\venv\\lib\\site-packages (2023.1.6)\n",
      "Requirement already satisfied: certifi in c:\\users\\filip\\desktop\\workspaces\\python\\yolov7-object-tracking\\venv\\lib\\site-packages (from yt-dlp) (2022.12.7)\n",
      "Requirement already satisfied: brotli in c:\\users\\filip\\desktop\\workspaces\\python\\yolov7-object-tracking\\venv\\lib\\site-packages (from yt-dlp) (1.0.9)\n",
      "Requirement already satisfied: pycryptodomex in c:\\users\\filip\\desktop\\workspaces\\python\\yolov7-object-tracking\\venv\\lib\\site-packages (from yt-dlp) (3.17)\n",
      "Requirement already satisfied: websockets in c:\\users\\filip\\desktop\\workspaces\\python\\yolov7-object-tracking\\venv\\lib\\site-packages (from yt-dlp) (10.4)\n",
      "Requirement already satisfied: mutagen in c:\\users\\filip\\desktop\\workspaces\\python\\yolov7-object-tracking\\venv\\lib\\site-packages (from yt-dlp) (1.46.0)\n",
      "[youtube] Extracting URL: https://www.youtube.com/watch?v=ORrrKXGx2SE\n",
      "[youtube] ORrrKXGx2SE: Downloading webpage\n",
      "[youtube] ORrrKXGx2SE: Downloading android player API JSON\n",
      "[info] ORrrKXGx2SE: Downloading 1 format(s): 22\n",
      "[download] Destination: background video  people  walking  [ORrrKXGx2SE].mp4\n",
      "\n",
      "[download]   0.0% of    2.85MiB at  Unknown B/s ETA Unknown\n",
      "[download]   0.1% of    2.85MiB at  Unknown B/s ETA Unknown\n",
      "[download]   0.2% of    2.85MiB at    2.18MiB/s ETA 00:01  \n",
      "[download]   0.5% of    2.85MiB at    4.02MiB/s ETA 00:00\n",
      "[download]   1.1% of    2.85MiB at    6.52MiB/s ETA 00:00\n",
      "[download]   2.2% of    2.85MiB at    8.61MiB/s ETA 00:00\n",
      "[download]   4.4% of    2.85MiB at   11.65MiB/s ETA 00:00\n",
      "[download]   8.7% of    2.85MiB at    2.04MiB/s ETA 00:01\n",
      "[download]  17.5% of    2.85MiB at    3.71MiB/s ETA 00:00\n",
      "[download]  35.1% of    2.85MiB at    6.35MiB/s ETA 00:00\n",
      "[download]  70.2% of    2.85MiB at    9.85MiB/s ETA 00:00\n",
      "[download] 100.0% of    2.85MiB at   11.75MiB/s ETA 00:00\n",
      "[download] 100% of    2.85MiB in 00:00:00 at 6.12MiB/s   \n"
     ]
    }
   ],
   "source": [
    "!pip install yt-dlp\n",
    "!yt-dlp \"https://www.youtube.com/watch?v=ORrrKXGx2SE\""
   ]
  },
  {
   "cell_type": "code",
   "execution_count": 20,
   "outputs": [
    {
     "name": "stdout",
     "output_type": "stream",
     "text": [
      "^C\n"
     ]
    }
   ],
   "source": [
    "from IPython.core.interactiveshell import InteractiveShell\n",
    "InteractiveShell.ast_node_interactivity = \"all\"\n",
    "!python -u detect_and_track.py \\\n",
    "--weights yolov7.pt \\\n",
    "--save-txt \\\n",
    "--save-bbox-dim \\\n",
    "--save-with-object-id \\\n",
    "--source \"video.mp4\" \\\n",
    "--classes 0 \\\n",
    "--device 0 \\\n",
    "--name \"YOLOV7 Object Tracking\""
   ],
   "metadata": {
    "collapsed": false
   }
  },
  {
   "cell_type": "code",
   "execution_count": null,
   "outputs": [],
   "source": [
    "!python -u detect_and_track.py --weights yolov7.pt --save-txt --save-bbox-dim --save-with-object-id --source \"video.mp4\" --classes 0 --device 0 --name \"YOLOV7 Object Tracking\""
   ],
   "metadata": {
    "collapsed": false
   }
  }
 ],
 "metadata": {
  "kernelspec": {
   "display_name": "Python 3",
   "language": "python",
   "name": "python3"
  },
  "language_info": {
   "codemirror_mode": {
    "name": "ipython",
    "version": 2
   },
   "file_extension": ".py",
   "mimetype": "text/x-python",
   "name": "python",
   "nbconvert_exporter": "python",
   "pygments_lexer": "ipython2",
   "version": "2.7.6"
  }
 },
 "nbformat": 4,
 "nbformat_minor": 0
}
